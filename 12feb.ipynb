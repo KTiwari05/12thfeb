{
 "cells": [
  {
   "cell_type": "markdown",
   "id": "1b1f2540-1cca-436a-b32f-8f94500d9887",
   "metadata": {},
   "source": [
    "## Ans 1)"
   ]
  },
  {
   "cell_type": "markdown",
   "id": "1ed4056c-ba06-46a2-8f95-0415c5b7350f",
   "metadata": {},
   "source": [
    "### An exception in Python is an event that occurs during the execution of a program, which disrupts the normal flow of the program's instructions. When an exception occurs, Python raises an object (an instance of a class) called an exception. \n",
    "\n",
    "### Exception:\n",
    "\n",
    "###    Occurs during the runtime of a program.\n",
    "###    Caused by errors or exceptional conditions encountered during program execution.\n",
    "###    Disrupts the normal flow of the program.\n",
    "\n",
    "### Syntax Error:\n",
    "\n",
    "###    Occurs during the compilation phase of a program.\n",
    "###    Caused by violations of the language's syntax rules.\n",
    "###    Prevents the program from being executed.\n"
   ]
  },
  {
   "cell_type": "markdown",
   "id": "7e183d4d-d4de-4638-bf1b-ba9cd63d4a43",
   "metadata": {},
   "source": [
    "## Ans 2)\n"
   ]
  },
  {
   "cell_type": "markdown",
   "id": "f2e6c165-96fb-4805-8ff3-f586b2e891fe",
   "metadata": {},
   "source": [
    "### When an exception is not handled in Python, it leads to the termination of the program and an error message is displayed, providing information about the unhandled exception. \n",
    "\n",
    "def divide_numbers(a, b):\n",
    "    return a / b\n",
    "\n",
    "\n",
    "def calculate_division():\n",
    "    numerator = 10\n",
    "    denominator = 0\n",
    "    result = divide_numbers(numerator, denominator)\n",
    "    print(\"The result of the division is:\", result)\n",
    "\n",
    "calculate_division()\n"
   ]
  },
  {
   "cell_type": "markdown",
   "id": "b48c7693-bcbc-4130-8cb6-98033c2a3e75",
   "metadata": {},
   "source": [
    "## Ans 3)"
   ]
  },
  {
   "cell_type": "markdown",
   "id": "68788853-598e-48b7-9dec-cdbacb7f8b56",
   "metadata": {},
   "source": [
    "### In Python, the try, except, else, and finally statements are used to handle exceptions. These statements form the basis of exception handling in Python\n",
    "\n"
   ]
  },
  {
   "cell_type": "code",
   "execution_count": 1,
   "id": "8fd3c73c-7043-4a14-9a89-adb6163be77f",
   "metadata": {},
   "outputs": [
    {
     "name": "stdout",
     "output_type": "stream",
     "text": [
      "The result of the division is: 5.0\n",
      "Division operation completed.\n",
      "Error: Division by zero is not allowed!\n",
      "Division operation completed.\n"
     ]
    }
   ],
   "source": [
    "def divide_numbers(a, b):\n",
    "    try:\n",
    "        result = a / b\n",
    "    except ZeroDivisionError:\n",
    "        print(\"Error: Division by zero is not allowed!\")\n",
    "    else:\n",
    "        print(\"The result of the division is:\", result)\n",
    "    finally:\n",
    "        print(\"Division operation completed.\")\n",
    "\n",
    "# Calling the function that performs the division.\n",
    "divide_numbers(10, 2)\n",
    "divide_numbers(10, 0)\n"
   ]
  },
  {
   "cell_type": "markdown",
   "id": "f4802bfe-229f-498a-b575-8a84726ecccd",
   "metadata": {},
   "source": [
    "## Ans 4)"
   ]
  },
  {
   "cell_type": "markdown",
   "id": "c9abd9fb-d7b1-4f22-a71d-a4e24f35b77e",
   "metadata": {},
   "source": [
    "### try statement: The try statement is used to enclose a block of code that might raise an exception. It allows you to specify a block of code where exceptions might occur.\n",
    "\n",
    "### else statement: The else statement is optional and is used in conjunction with the try-except block. It is executed if no exception is raised in the preceding try block. It allows you to specify code that should be executed when no exception occurs.\n",
    "\n",
    "### finally statement: The finally statement is also optional and is used in conjunction with the try-except block. It specifies a block of code that will always be executed, regardless of whether an exception was raised or not. The finally block is typically used for cleanup operations.\n",
    "\n",
    "\n",
    "### In Python, the raise statement is used to explicitly raise an exception during program execution. It allows you to raise built-in or user-defined exceptions at specific points in your code, indicating exceptional conditions or errors. raise [ExceptionType([args])]\n"
   ]
  },
  {
   "cell_type": "markdown",
   "id": "ce48a596-f950-4450-bfde-20cc55953b1f",
   "metadata": {},
   "source": [
    "## Ans 5)"
   ]
  },
  {
   "cell_type": "markdown",
   "id": "3e627f0f-0ae7-48b7-b1bb-5434d1996e9b",
   "metadata": {},
   "source": [
    "### Custom exceptions in Python are user-defined exception classes that are derived from the base Exception class or its subclasses. They allow developers to create their own specialized exceptions to represent specific exceptional conditions or errors that may occur in their code."
   ]
  },
  {
   "cell_type": "code",
   "execution_count": 2,
   "id": "c71df9c5-153b-4dcd-8d56-5558bcb54630",
   "metadata": {},
   "outputs": [
    {
     "name": "stdout",
     "output_type": "stream",
     "text": [
      "Error: Insufficient funds in the account.\n"
     ]
    }
   ],
   "source": [
    "class InsufficientFundsError(Exception):\n",
    "    pass\n",
    "\n",
    "def withdraw(amount, balance):\n",
    "    if amount > balance:\n",
    "        raise InsufficientFundsError(\"Insufficient funds in the account.\")\n",
    "    else:\n",
    "        # Perform the withdrawal operation\n",
    "        print(\"Withdrawal successful.\")\n",
    "\n",
    "try:\n",
    "    balance = 1000\n",
    "    withdraw(1500, balance)\n",
    "except InsufficientFundsError as e:\n",
    "    print(\"Error:\", str(e))\n"
   ]
  },
  {
   "cell_type": "markdown",
   "id": "09f37e70-f081-44c9-b38a-35900819566f",
   "metadata": {},
   "source": [
    "## Ans 6)"
   ]
  },
  {
   "cell_type": "code",
   "execution_count": 3,
   "id": "2df03916-2b17-4fd6-9004-572646324a2e",
   "metadata": {},
   "outputs": [
    {
     "name": "stdout",
     "output_type": "stream",
     "text": [
      "Error: Invalid value: Cannot be negative.\n"
     ]
    }
   ],
   "source": [
    "class CustomException(Exception):\n",
    "    def __init__(self, message):\n",
    "        self.message = message\n",
    "\n",
    "def perform_operation(value):\n",
    "    try:\n",
    "        if value < 0:\n",
    "            raise CustomException(\"Invalid value: Cannot be negative.\")\n",
    "        else:\n",
    "            print(\"Operation performed successfully.\")\n",
    "    except CustomException as e:\n",
    "        print(\"Error:\", e.message)\n",
    "\n",
    "# Testing the custom exception\n",
    "perform_operation(-5)\n"
   ]
  },
  {
   "cell_type": "code",
   "execution_count": null,
   "id": "80e3ece4-ff0f-45ee-8d9a-902af949233c",
   "metadata": {},
   "outputs": [],
   "source": []
  }
 ],
 "metadata": {
  "kernelspec": {
   "display_name": "Python 3 (ipykernel)",
   "language": "python",
   "name": "python3"
  },
  "language_info": {
   "codemirror_mode": {
    "name": "ipython",
    "version": 3
   },
   "file_extension": ".py",
   "mimetype": "text/x-python",
   "name": "python",
   "nbconvert_exporter": "python",
   "pygments_lexer": "ipython3",
   "version": "3.10.8"
  }
 },
 "nbformat": 4,
 "nbformat_minor": 5
}
